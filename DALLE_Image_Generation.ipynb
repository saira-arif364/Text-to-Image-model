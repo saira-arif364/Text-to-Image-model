{
  "nbformat": 4,
  "nbformat_minor": 0,
  "metadata": {
    "colab": {
      "provenance": []
    },
    "kernelspec": {
      "name": "python3",
      "display_name": "Python 3"
    },
    "language_info": {
      "name": "python"
    }
  },
  "cells": [
    {
      "cell_type": "code",
      "source": [
        "!pip install clarifai"
      ],
      "metadata": {
        "id": "KXYtg74LQrN9"
      },
      "execution_count": null,
      "outputs": []
    },
    {
      "cell_type": "code",
      "source": [
        "%env CLARIFAI_PAT = c42dd31592b84b2899e20b3ca68be8f6"
      ],
      "metadata": {
        "colab": {
          "base_uri": "https://localhost:8080/"
        },
        "id": "R8XYgLWrQy9g",
        "outputId": "bae1d21f-82d8-4857-dc61-710c756107df"
      },
      "execution_count": null,
      "outputs": [
        {
          "output_type": "stream",
          "name": "stdout",
          "text": [
            "env: CLARIFAI_PAT=c42dd31592b84b2899e20b3ca68be8f6\n"
          ]
        }
      ]
    },
    {
      "cell_type": "code",
      "source": [
        "from clarifai.client.model import Model\n",
        "prompt = \"Flying Monkey\"\n",
        "inference_params = dict(quality=\"standard\" , size= \"1024x1024\")\n",
        "model_prediction = Model(\"https://clarifai.com/openai/dall-e/models/dall-e-3\").predict_by_bytes(prompt.encode(), input_type=\"text\",inference_params = inference_params)\n",
        "output = model_prediction.outputs[0].data.image.base64\n",
        "with open(\"image.png\",\"wb\") as f:\n",
        "  f.write(output)"
      ],
      "metadata": {
        "id": "zMyCI0qwQ_xv"
      },
      "execution_count": null,
      "outputs": []
    }
  ]
}